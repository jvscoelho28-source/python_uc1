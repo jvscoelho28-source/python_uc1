{
  "nbformat": 4,
  "nbformat_minor": 0,
  "metadata": {
    "colab": {
      "provenance": [],
      "include_colab_link": true
    },
    "kernelspec": {
      "name": "python3",
      "display_name": "Python 3"
    },
    "language_info": {
      "name": "python"
    }
  },
  "cells": [
    {
      "cell_type": "markdown",
      "metadata": {
        "id": "view-in-github",
        "colab_type": "text"
      },
      "source": [
        "<a href=\"https://colab.research.google.com/github/jvscoelho28-source/python_uc1/blob/main/PHYTON_SENAC_AULA01_pynb.ipynb\" target=\"_parent\"><img src=\"https://colab.research.google.com/assets/colab-badge.svg\" alt=\"Open In Colab\"/></a>"
      ]
    },
    {
      "cell_type": "markdown",
      "source": [
        "variavel é uma capsula que armazena valores que podem variar ao longo do codigo\n",
        "\n",
        "### TIPOS PRIMITIVOS\n",
        "* String - um dado fundamental  que armazena sequencia de caracteres\n",
        "\n",
        "\n",
        "* Int - numeros inteiros\n",
        "\n",
        "\n",
        "* Double - numeros fracionados\n",
        "\n",
        "\n",
        "* Boolean - 0 ou 1"
      ],
      "metadata": {
        "id": "N1TlvFcVT3Nt"
      }
    },
    {
      "cell_type": "code",
      "execution_count": null,
      "metadata": {
        "colab": {
          "base_uri": "https://localhost:8080/"
        },
        "id": "boLjXNm2Srq1",
        "outputId": "66cb5e23-6562-41f7-9b85-edc5b2e532c3"
      },
      "outputs": [
        {
          "output_type": "stream",
          "name": "stdout",
          "text": [
            "2\n"
          ]
        }
      ],
      "source": [
        "x=2\n",
        "#print imprime o valor de x na tela\n",
        "print (x)"
      ]
    },
    {
      "cell_type": "code",
      "source": [
        "x= x+2\n",
        "#x é igual ao valor atual dele mais 1\n",
        "print (x)"
      ],
      "metadata": {
        "colab": {
          "base_uri": "https://localhost:8080/"
        },
        "id": "YIW9L8TVaIAk",
        "outputId": "2c66408d-6b7f-49ab-f586-0e6632ae2a04"
      },
      "execution_count": null,
      "outputs": [
        {
          "output_type": "stream",
          "name": "stdout",
          "text": [
            "4\n"
          ]
        }
      ]
    },
    {
      "cell_type": "markdown",
      "source": [
        "### Operadores Matematicos\n",
        "\n",
        "* + SOMA\n",
        "* - SUB\n",
        "* \"*\" Multiplicação\n",
        "* \"/\" Divisão"
      ],
      "metadata": {
        "id": "CHkXS9P3kAVf"
      }
    },
    {
      "cell_type": "code",
      "source": [
        "x=10\n",
        "print (x + 2)\n",
        "print (x*2)\n",
        "print (x - 2)\n",
        "print (x/2)"
      ],
      "metadata": {
        "colab": {
          "base_uri": "https://localhost:8080/"
        },
        "id": "f4IhyzB4kewT",
        "outputId": "ef32997b-a611-45f0-a529-2a56617cfb1e"
      },
      "execution_count": null,
      "outputs": [
        {
          "output_type": "stream",
          "name": "stdout",
          "text": [
            "12\n",
            "20\n",
            "8\n",
            "5.0\n"
          ]
        }
      ]
    },
    {
      "cell_type": "code",
      "source": [
        "nome = input (\"Digite seu nome: \")\n",
        "print(f\"Olá, {nome}!\")"
      ],
      "metadata": {
        "colab": {
          "base_uri": "https://localhost:8080/"
        },
        "id": "aTEekUZ_mR43",
        "outputId": "0785294d-dc89-4990-db74-f9feb2edc46a"
      },
      "execution_count": null,
      "outputs": [
        {
          "output_type": "stream",
          "name": "stdout",
          "text": [
            "Digite seu nome: João Santos\n",
            "Olá, João Santos!\n"
          ]
        }
      ]
    },
    {
      "cell_type": "code",
      "source": [
        "numero1 = int(input(\"Digite o primeiro numero\"))\n",
        "numero2 = int(input(\"digite o segundo numero\"))\n",
        "print(numero1+numero2)"
      ],
      "metadata": {
        "colab": {
          "base_uri": "https://localhost:8080/"
        },
        "id": "UjWMreeVnn8H",
        "outputId": "9a088970-7c59-4532-d5ec-148824fae742"
      },
      "execution_count": null,
      "outputs": [
        {
          "output_type": "stream",
          "name": "stdout",
          "text": [
            "Digite o primeiro numero10\n",
            "digite o segundo numero50\n",
            "60\n"
          ]
        }
      ]
    },
    {
      "cell_type": "code",
      "source": [
        "numero1 = int(input(\"digite o primeiro numero\"))\n",
        "numero2 = int(input(\"digite o segundo numero\"))\n",
        "print(numero1*numero2/2)\n",
        "\n"
      ],
      "metadata": {
        "colab": {
          "base_uri": "https://localhost:8080/"
        },
        "id": "bCKMQC5Ur0g7",
        "outputId": "aa9f62e8-c292-4051-ab39-07789421b760"
      },
      "execution_count": null,
      "outputs": [
        {
          "output_type": "stream",
          "name": "stdout",
          "text": [
            "digite o primeiro numero10\n",
            "digite o segundo numero50\n",
            "250.0\n"
          ]
        }
      ]
    },
    {
      "cell_type": "code",
      "source": [
        "base = float(input(\"digite o valor da base do triangulo retangulo\"))\n",
        "altura = float(input(\"digite o valor da altura do triangulo retangulo\"))\n",
        "area = (base*altura)/2\n",
        "print(f\"A area do triangulo retangulo é igual a: {area} \")"
      ],
      "metadata": {
        "colab": {
          "base_uri": "https://localhost:8080/"
        },
        "id": "PZOVYLzavrul",
        "outputId": "e3347423-f1e1-413d-c791-3a893df21106"
      },
      "execution_count": null,
      "outputs": [
        {
          "output_type": "stream",
          "name": "stdout",
          "text": [
            "digite o valor da base do triangulo retangulo10\n",
            "digite o valor da altura do triangulo retangulo50\n",
            "A area do triangulo retangulo é igual a: 250.0 \n"
          ]
        }
      ]
    },
    {
      "cell_type": "code",
      "source": [
        "altura = float(input(\"digite o valor da altura do cubo \"))\n",
        "base = float(input(\"digite o valor da base do cubo \"))\n",
        "profundidade = float(input(\"digite o valor da profundidade do cubo \"))\n",
        "volume = (altura*base*profundidade)\n",
        "print(f\"o volume do cubo é igual a: {volume} \")"
      ],
      "metadata": {
        "colab": {
          "base_uri": "https://localhost:8080/"
        },
        "id": "Oel6VzQDy7YH",
        "outputId": "50476d79-4f7f-4a99-fd29-1f9dcbe2c8ce"
      },
      "execution_count": null,
      "outputs": [
        {
          "output_type": "stream",
          "name": "stdout",
          "text": [
            "digite o valor da altura do cubo 15\n",
            "digite o valor da base do cubo 5\n",
            "digite o valor da profundidade do cubo 10\n",
            "o volume do cubo é igual a: 750.0 \n"
          ]
        }
      ]
    },
    {
      "cell_type": "markdown",
      "source": [
        "Operadores logicos\n",
        "\n",
        "comparação ==\n",
        "\n",
        "maior ou igual >=\n",
        "\n",
        "menor ou igual <=\n",
        "\n",
        "Diferente !=\n",
        "\n",
        "Maior >\n",
        "\n",
        "menor <\n"
      ],
      "metadata": {
        "id": "cjPzWqzicI0X"
      }
    },
    {
      "cell_type": "code",
      "source": [
        "senha = int(input(\"Digite sua senha: \"))\n",
        "senha_sistema = 123456\n",
        "\n",
        "if senha == senha_sistema:\n",
        " print(\"senha correta!\")\n",
        "else:\n",
        " print(\"senha incorreta!\")\n",
        "\n",
        "\n"
      ],
      "metadata": {
        "colab": {
          "base_uri": "https://localhost:8080/"
        },
        "id": "URFMs_hwdc_P",
        "outputId": "ec750cd8-32f8-49b6-df50-d80ca9b8e4f4"
      },
      "execution_count": null,
      "outputs": [
        {
          "output_type": "stream",
          "name": "stdout",
          "text": [
            "Digite sua senha: 123456\n",
            "123456\n"
          ]
        }
      ]
    },
    {
      "cell_type": "markdown",
      "source": [],
      "metadata": {
        "id": "3z6-kaqqcsyA"
      }
    },
    {
      "cell_type": "code",
      "source": [
        "x = 10\n",
        "while x>=1 :\n",
        "   print(x)\n",
        "   x -= 1"
      ],
      "metadata": {
        "colab": {
          "base_uri": "https://localhost:8080/"
        },
        "id": "2DVbWs2hgHoR",
        "outputId": "633fa829-a87f-4428-bc18-d5f137876881"
      },
      "execution_count": null,
      "outputs": [
        {
          "output_type": "stream",
          "name": "stdout",
          "text": [
            "10\n",
            "9\n",
            "8\n",
            "7\n",
            "6\n",
            "5\n",
            "4\n",
            "3\n",
            "2\n",
            "1\n"
          ]
        }
      ]
    },
    {
      "cell_type": "code",
      "source": [
        "x = 1\n",
        "while x<=10 :\n",
        "   print(x)\n",
        "   x += 1"
      ],
      "metadata": {
        "colab": {
          "base_uri": "https://localhost:8080/"
        },
        "id": "Y3n2IiUnkjcX",
        "outputId": "20e020b2-0910-4c96-e253-6c8a59cc5aef"
      },
      "execution_count": null,
      "outputs": [
        {
          "output_type": "stream",
          "name": "stdout",
          "text": [
            "1\n",
            "2\n",
            "3\n",
            "4\n",
            "5\n",
            "6\n",
            "7\n",
            "8\n",
            "9\n",
            "10\n"
          ]
        }
      ]
    },
    {
      "cell_type": "code",
      "source": [
        "x = 2\n",
        "while x<=100 :\n",
        "   print(x)\n",
        "   x += 2"
      ],
      "metadata": {
        "colab": {
          "base_uri": "https://localhost:8080/"
        },
        "id": "vGYKiA20mjif",
        "outputId": "4a08e3ad-7cd6-4e36-d61b-405e9d1b40c7"
      },
      "execution_count": null,
      "outputs": [
        {
          "output_type": "stream",
          "name": "stdout",
          "text": [
            "2\n",
            "4\n",
            "6\n",
            "8\n",
            "10\n",
            "12\n",
            "14\n",
            "16\n",
            "18\n",
            "20\n",
            "22\n",
            "24\n",
            "26\n",
            "28\n",
            "30\n",
            "32\n",
            "34\n",
            "36\n",
            "38\n",
            "40\n",
            "42\n",
            "44\n",
            "46\n",
            "48\n",
            "50\n",
            "52\n",
            "54\n",
            "56\n",
            "58\n",
            "60\n",
            "62\n",
            "64\n",
            "66\n",
            "68\n",
            "70\n",
            "72\n",
            "74\n",
            "76\n",
            "78\n",
            "80\n",
            "82\n",
            "84\n",
            "86\n",
            "88\n",
            "90\n",
            "92\n",
            "94\n",
            "96\n",
            "98\n",
            "100\n"
          ]
        }
      ]
    },
    {
      "cell_type": "markdown",
      "source": [
        "Um parque de diversões cobra a entrada com base na idade do visitante, segundo as seguintes regras:\n",
        "\n",
        "    Crianças de 0 a 5 anos entram gratuitamente.\n",
        "\n",
        "    Pessoas de 6 a 17 anos pagam R$10,00.\n",
        "\n",
        "    Pessoas de 18 a 59 anos pagam R$20,00.\n",
        "\n",
        "    Pessoas com 60 anos ou mais pagam R$8,00.\n",
        "\n",
        "Escreva um código que:\n",
        "\n",
        "    Peça ao usuário que digite a idade.\n",
        "\n",
        "    Use estruturas if, elif e else para determinar o valor da entrada com base na idade.\n",
        "\n",
        "    Mostre uma mensagem com o valor que deve ser pago ou se a entrada é gratuita."
      ],
      "metadata": {
        "id": "LkNWi7GUUwqx"
      }
    },
    {
      "cell_type": "code",
      "source": [
        "for x in range(0, 10):\n",
        "  print(x)\n"
      ],
      "metadata": {
        "colab": {
          "base_uri": "https://localhost:8080/"
        },
        "id": "gxrbGgAGbNW3",
        "outputId": "52fc01fb-866a-4acc-ab94-67a366371a27"
      },
      "execution_count": null,
      "outputs": [
        {
          "output_type": "stream",
          "name": "stdout",
          "text": [
            "0\n",
            "1\n",
            "2\n",
            "3\n",
            "4\n",
            "5\n",
            "6\n",
            "7\n",
            "8\n",
            "9\n"
          ]
        }
      ]
    },
    {
      "cell_type": "code",
      "source": [
        "for x in range(0, 21, 2):\n",
        "  print(x)"
      ],
      "metadata": {
        "colab": {
          "base_uri": "https://localhost:8080/"
        },
        "id": "gTDYo3-ge1kb",
        "outputId": "b44c75bc-129c-4871-fe97-7b7e04347b66"
      },
      "execution_count": null,
      "outputs": [
        {
          "output_type": "stream",
          "name": "stdout",
          "text": [
            "0\n",
            "2\n",
            "4\n",
            "6\n",
            "8\n",
            "10\n",
            "12\n",
            "14\n",
            "16\n",
            "18\n",
            "20\n"
          ]
        }
      ]
    },
    {
      "cell_type": "code",
      "source": [
        "if idade <=18:\n",
        "  print(\"é uma criança\")\n",
        "else idade 18=25\n",
        "  print(\"é um jovem\")\n",
        "  if idade <25=65\n",
        "  print(\"é um adulto\")\n",
        "  if idade <65\n",
        "  print(\"é um idoso\")"
      ],
      "metadata": {
        "id": "KbZAVYNogAYU",
        "colab": {
          "base_uri": "https://localhost:8080/"
        },
        "outputId": "263525c5-d449-4203-87d7-17c94621aaec"
      },
      "execution_count": null,
      "outputs": [
        {
          "output_type": "stream",
          "name": "stdout",
          "text": [
            "Digite sua idade: 23\n",
            "é um jovem\n"
          ]
        }
      ]
    },
    {
      "cell_type": "code",
      "source": [
        "import random\n",
        "numero_aleatorio = random.randint(1, 10)\n",
        "print(numero_aleatorio)\n"
      ],
      "metadata": {
        "colab": {
          "base_uri": "https://localhost:8080/"
        },
        "id": "J1r0x5VBAN-x",
        "outputId": "d7459878-1ebd-4b13-afa0-0e686fc2ba20"
      },
      "execution_count": null,
      "outputs": [
        {
          "output_type": "stream",
          "name": "stdout",
          "text": [
            "6\n"
          ]
        }
      ]
    },
    {
      "cell_type": "code",
      "source": [
        "import random\n",
        "numero_aleatorio = random.randint(1, 50)\n",
        "print(numero_aleatorio)"
      ],
      "metadata": {
        "colab": {
          "base_uri": "https://localhost:8080/"
        },
        "id": "GTS3bcoECKL1",
        "outputId": "114fcd50-b921-4d3e-92ea-ac2df409659c"
      },
      "execution_count": null,
      "outputs": [
        {
          "output_type": "stream",
          "name": "stdout",
          "text": [
            "22\n"
          ]
        }
      ]
    },
    {
      "cell_type": "code",
      "source": [
        "import random\n",
        "\n",
        "answer = random.randint(1, 10)\n",
        "\n",
        "while 1 > 0:\n",
        "  adivinhe = int(input(\"Acerte o número entre 1 e 10.\"))\n",
        "  if answer == adivinhe:\n",
        "    print(\"Você adivinhou!\")\n",
        "    break\n",
        "  elif answer < adivinhe and adivinhe <= 10:\n",
        "    print(\"Esse número é maior que o desejado.\")\n",
        "  elif adivinhe >10:\n",
        "    print(\"Esse número não existe na sequência.\")\n",
        "  else:\n",
        "    print(\"Esse número é menor que o desejado.\")"
      ],
      "metadata": {
        "colab": {
          "base_uri": "https://localhost:8080/"
        },
        "id": "iqy9ZZVXIYOE",
        "outputId": "5f1741c6-94fe-492c-e544-bc4d652c7aa1"
      },
      "execution_count": null,
      "outputs": [
        {
          "output_type": "stream",
          "name": "stdout",
          "text": [
            "Acerte o número entre 1 e 10.7\n",
            "Esse número é maior que o desejado.\n",
            "Acerte o número entre 1 e 10.4\n",
            "Você adivinhou!\n"
          ]
        }
      ]
    },
    {
      "cell_type": "code",
      "source": [
        "import random\n",
        "\n",
        "\n",
        "opcoes = [\"pedra\", \"papel\", \"tesoura\"]\n",
        "computador = random.choice(opcoes)\n",
        "print(computador)\n",
        "\n",
        "usuario = input(\"Escolha pedra, papel, tesoura: \").lower()\n",
        "\n",
        "if (usuario == computador) :\n",
        "  print(\"Empate\")\n",
        "elif ((usuario == opcoes[0] and computador == opcoes[2]) or\n",
        "      (usuario == opcoes [1] and computador == opcoes [0]) or\n",
        "      (usuario == opcoes [2] and computador == opcoes [1])):\n",
        "      print(\"Ganhou\")\n",
        "else:\n",
        "  print(\"Perdeu\")"
      ],
      "metadata": {
        "colab": {
          "base_uri": "https://localhost:8080/"
        },
        "id": "5DlpgVfHOLSa",
        "outputId": "786cdfe1-bff7-407b-a838-c96f12fa582b"
      },
      "execution_count": null,
      "outputs": [
        {
          "output_type": "stream",
          "name": "stdout",
          "text": [
            "papel\n",
            "Escolha pedra, papel, tesoura: tesoura\n",
            "Ganhou\n"
          ]
        }
      ]
    },
    {
      "cell_type": "code",
      "source": [
        "numero = int(input(\"Digite um número: \"))\n",
        "\n",
        "if 10 <= numero <= 20:\n",
        "    print(\"O número está no intervalo entre 10 e 20.\")\n",
        "else:\n",
        "    print(\"O número está fora do intervalo.\")\n"
      ],
      "metadata": {
        "colab": {
          "base_uri": "https://localhost:8080/"
        },
        "id": "DiF2mZqOb0vn",
        "outputId": "92c90f24-2b65-4d57-9e69-ab2c9060131c"
      },
      "execution_count": null,
      "outputs": [
        {
          "output_type": "stream",
          "name": "stdout",
          "text": [
            "Digite um número: 17\n",
            "O número está no intervalo entre 10 e 20.\n"
          ]
        }
      ]
    },
    {
      "cell_type": "code",
      "source": [
        "idade = int(input(\"Digite sua idade\"))\n",
        "\n",
        "if idade >= 16:\n",
        "  print(\"pode votar\")\n",
        "elif idade >= 18:\n",
        "  print(\"pode dirigir\")\n"
      ],
      "metadata": {
        "colab": {
          "base_uri": "https://localhost:8080/"
        },
        "id": "GxuG1Uxtja8s",
        "outputId": "86d796d5-7b65-4c2d-f3e4-160063c5ab6d"
      },
      "execution_count": null,
      "outputs": [
        {
          "output_type": "stream",
          "name": "stdout",
          "text": [
            "Digite sua idade23\n",
            "pode votar\n"
          ]
        }
      ]
    },
    {
      "cell_type": "code",
      "source": [
        "a = True\n",
        "b = False\n",
        "\n",
        "print(a and b)  # False (True AND False is False)\n",
        "print(a or b)   # True (True OR False is True)\n",
        "print(not a)    # False (NOT True is False)\n"
      ],
      "metadata": {
        "colab": {
          "base_uri": "https://localhost:8080/"
        },
        "id": "4jFN2W5Bk6ST",
        "outputId": "d4ee7458-20c0-448c-f77c-ab81dd403098"
      },
      "execution_count": null,
      "outputs": [
        {
          "output_type": "stream",
          "name": "stdout",
          "text": [
            "False\n",
            "True\n",
            "False\n"
          ]
        }
      ]
    },
    {
      "cell_type": "code",
      "source": [
        "frutas = [\"morango\", \"uva\", \"manga\"]\n",
        "for fruta in frutas :\n",
        "    print(fruta)"
      ],
      "metadata": {
        "id": "6C2ayMYDnE-f",
        "colab": {
          "base_uri": "https://localhost:8080/"
        },
        "outputId": "85915aa1-c210-4931-bcc9-cb32ce5df29e"
      },
      "execution_count": null,
      "outputs": [
        {
          "output_type": "stream",
          "name": "stdout",
          "text": [
            "morango\n",
            "uva\n",
            "manga\n"
          ]
        }
      ]
    },
    {
      "cell_type": "code",
      "source": [
        "for i in range(5):\n",
        "  print(i)"
      ],
      "metadata": {
        "colab": {
          "base_uri": "https://localhost:8080/"
        },
        "id": "C-L7O32MQEpU",
        "outputId": "2e395434-d35c-4ede-bf6b-b94b5df24ff4"
      },
      "execution_count": null,
      "outputs": [
        {
          "output_type": "stream",
          "name": "stdout",
          "text": [
            "0\n",
            "1\n",
            "2\n",
            "3\n",
            "4\n"
          ]
        }
      ]
    },
    {
      "cell_type": "code",
      "source": [
        "for i in range(10) :\n",
        "  print(i)\n"
      ],
      "metadata": {
        "colab": {
          "base_uri": "https://localhost:8080/"
        },
        "id": "eDwJIu3FQP6h",
        "outputId": "9039d515-4fa2-4ad3-d233-c1fc16477629"
      },
      "execution_count": null,
      "outputs": [
        {
          "output_type": "stream",
          "name": "stdout",
          "text": [
            "0\n",
            "1\n",
            "2\n",
            "3\n",
            "4\n",
            "5\n",
            "6\n",
            "7\n",
            "8\n",
            "9\n"
          ]
        }
      ]
    },
    {
      "cell_type": "code",
      "source": [
        "for i in range (5) :\n",
        "  print (f\" >> {i} << \")"
      ],
      "metadata": {
        "colab": {
          "base_uri": "https://localhost:8080/"
        },
        "id": "vEo_fhwMWIoj",
        "outputId": "3ec16fd9-f92a-4325-ddab-7c473fc7c593"
      },
      "execution_count": null,
      "outputs": [
        {
          "output_type": "stream",
          "name": "stdout",
          "text": [
            " >> 0 << \n",
            " >> 1 << \n",
            " >> 2 << \n",
            " >> 3 << \n",
            " >> 4 << \n"
          ]
        }
      ]
    },
    {
      "cell_type": "code",
      "source": [
        "frutas = [\"abacaxi\", \"figo\", \"romã\", \"goiaba\"]\n",
        "for fruta in frutas :\n",
        "  print(fruta)"
      ],
      "metadata": {
        "colab": {
          "base_uri": "https://localhost:8080/"
        },
        "id": "aq4RFy4BQco0",
        "outputId": "cfc24292-feee-4d60-e9b5-a2024f896122"
      },
      "execution_count": null,
      "outputs": [
        {
          "output_type": "stream",
          "name": "stdout",
          "text": [
            "abacaxi\n",
            "figo\n",
            "romã\n",
            "goiaba\n"
          ]
        }
      ]
    },
    {
      "cell_type": "code",
      "source": [
        "contador = 0\n",
        "while contador < 5:\n",
        "  print(contador)\n",
        "  contador += 1"
      ],
      "metadata": {
        "colab": {
          "base_uri": "https://localhost:8080/"
        },
        "id": "a8ECzvOFXsBZ",
        "outputId": "660aa54b-2b42-4db6-d548-a6f6e004bc2d"
      },
      "execution_count": null,
      "outputs": [
        {
          "output_type": "stream",
          "name": "stdout",
          "text": [
            "0\n",
            "1\n",
            "2\n",
            "3\n",
            "4\n"
          ]
        }
      ]
    },
    {
      "cell_type": "code",
      "source": [
        "cont=1\n",
        "while cont < 100 :\n",
        "  print (f\">> {cont} <<\")\n",
        "  cont = cont + 2"
      ],
      "metadata": {
        "colab": {
          "base_uri": "https://localhost:8080/"
        },
        "id": "2vvKjmGGYH5h",
        "outputId": "fa4f8e68-2695-4b93-bbea-4164701f93fd"
      },
      "execution_count": null,
      "outputs": [
        {
          "output_type": "stream",
          "name": "stdout",
          "text": [
            ">> 1 <<\n",
            ">> 3 <<\n",
            ">> 5 <<\n",
            ">> 7 <<\n",
            ">> 9 <<\n",
            ">> 11 <<\n",
            ">> 13 <<\n",
            ">> 15 <<\n",
            ">> 17 <<\n",
            ">> 19 <<\n",
            ">> 21 <<\n",
            ">> 23 <<\n",
            ">> 25 <<\n",
            ">> 27 <<\n",
            ">> 29 <<\n",
            ">> 31 <<\n",
            ">> 33 <<\n",
            ">> 35 <<\n",
            ">> 37 <<\n",
            ">> 39 <<\n",
            ">> 41 <<\n",
            ">> 43 <<\n",
            ">> 45 <<\n",
            ">> 47 <<\n",
            ">> 49 <<\n",
            ">> 51 <<\n",
            ">> 53 <<\n",
            ">> 55 <<\n",
            ">> 57 <<\n",
            ">> 59 <<\n",
            ">> 61 <<\n",
            ">> 63 <<\n",
            ">> 65 <<\n",
            ">> 67 <<\n",
            ">> 69 <<\n",
            ">> 71 <<\n",
            ">> 73 <<\n",
            ">> 75 <<\n",
            ">> 77 <<\n",
            ">> 79 <<\n",
            ">> 81 <<\n",
            ">> 83 <<\n",
            ">> 85 <<\n",
            ">> 87 <<\n",
            ">> 89 <<\n",
            ">> 91 <<\n",
            ">> 93 <<\n",
            ">> 95 <<\n",
            ">> 97 <<\n",
            ">> 99 <<\n"
          ]
        }
      ]
    },
    {
      "cell_type": "code",
      "source": [],
      "metadata": {
        "id": "BnaB32gpZHgD"
      },
      "execution_count": null,
      "outputs": []
    },
    {
      "cell_type": "code",
      "source": [
        "cont=0\n",
        "while cont < 100 :\n",
        "  print (f\">> {cont} <<\")\n",
        "  cont = cont + 2"
      ],
      "metadata": {
        "colab": {
          "base_uri": "https://localhost:8080/"
        },
        "outputId": "be2cd473-f1dd-4775-ae43-eae72cdfe0cf",
        "id": "WCJFgiJ_ZIlO"
      },
      "execution_count": null,
      "outputs": [
        {
          "output_type": "stream",
          "name": "stdout",
          "text": [
            ">> 0 <<\n",
            ">> 2 <<\n",
            ">> 4 <<\n",
            ">> 6 <<\n",
            ">> 8 <<\n",
            ">> 10 <<\n",
            ">> 12 <<\n",
            ">> 14 <<\n",
            ">> 16 <<\n",
            ">> 18 <<\n",
            ">> 20 <<\n",
            ">> 22 <<\n",
            ">> 24 <<\n",
            ">> 26 <<\n",
            ">> 28 <<\n",
            ">> 30 <<\n",
            ">> 32 <<\n",
            ">> 34 <<\n",
            ">> 36 <<\n",
            ">> 38 <<\n",
            ">> 40 <<\n",
            ">> 42 <<\n",
            ">> 44 <<\n",
            ">> 46 <<\n",
            ">> 48 <<\n",
            ">> 50 <<\n",
            ">> 52 <<\n",
            ">> 54 <<\n",
            ">> 56 <<\n",
            ">> 58 <<\n",
            ">> 60 <<\n",
            ">> 62 <<\n",
            ">> 64 <<\n",
            ">> 66 <<\n",
            ">> 68 <<\n",
            ">> 70 <<\n",
            ">> 72 <<\n",
            ">> 74 <<\n",
            ">> 76 <<\n",
            ">> 78 <<\n",
            ">> 80 <<\n",
            ">> 82 <<\n",
            ">> 84 <<\n",
            ">> 86 <<\n",
            ">> 88 <<\n",
            ">> 90 <<\n",
            ">> 92 <<\n",
            ">> 94 <<\n",
            ">> 96 <<\n",
            ">> 98 <<\n"
          ]
        }
      ]
    },
    {
      "cell_type": "code",
      "source": [
        "matriz = [\n",
        "    [1, 2, 3],\n",
        "    [4, 5, 6],\n",
        "    [7, 8, 9],\n",
        "]\n",
        "\n",
        "for linha in matriz:\n",
        "  for elemento in linha:\n",
        "    print(elemento, end=\" \")\n",
        "  print()\n",
        "\n",
        "\n"
      ],
      "metadata": {
        "colab": {
          "base_uri": "https://localhost:8080/"
        },
        "id": "YfJrv6wsaMZz",
        "outputId": "ec4fedfd-2cef-4117-84ac-a02a8051e591"
      },
      "execution_count": null,
      "outputs": [
        {
          "output_type": "stream",
          "name": "stdout",
          "text": [
            "1 2 3 \n",
            "4 5 6 \n",
            "7 8 9 \n"
          ]
        }
      ]
    },
    {
      "cell_type": "code",
      "source": [
        "for i in range(10):\n",
        "    if i == 5:\n",
        "      break   # Para o loop quando i for 5\n",
        "    if i % 2 ==0:\n",
        "      continue  # Pula números pares\n",
        "    print(i)\n"
      ],
      "metadata": {
        "colab": {
          "base_uri": "https://localhost:8080/"
        },
        "id": "ZULb4Ef0fYCB",
        "outputId": "fd06c32f-3d62-4360-eb24-3e423516a834"
      },
      "execution_count": null,
      "outputs": [
        {
          "output_type": "stream",
          "name": "stdout",
          "text": [
            "1\n",
            "3\n"
          ]
        }
      ]
    },
    {
      "cell_type": "code",
      "source": [
        "for i in range(3):\n",
        "  print(i)\n",
        "else:\n",
        "   print(\"Loop concluido!\")"
      ],
      "metadata": {
        "colab": {
          "base_uri": "https://localhost:8080/"
        },
        "id": "oKjE9-TRqP6J",
        "outputId": "55053edb-c8bf-4b06-cb04-51f92730ba4a"
      },
      "execution_count": null,
      "outputs": [
        {
          "output_type": "stream",
          "name": "stdout",
          "text": [
            "0\n",
            "1\n",
            "2\n",
            "Loop concluido!\n"
          ]
        }
      ]
    },
    {
      "cell_type": "code",
      "source": [
        "for i in range(1, 11):\n",
        "    print(i)\n"
      ],
      "metadata": {
        "colab": {
          "base_uri": "https://localhost:8080/"
        },
        "id": "zpsjqWiwzptR",
        "outputId": "81b97873-a3ed-45a8-c294-0fa9f3ce087d"
      },
      "execution_count": null,
      "outputs": [
        {
          "output_type": "stream",
          "name": "stdout",
          "text": [
            "1\n",
            "2\n",
            "3\n",
            "4\n",
            "5\n",
            "6\n",
            "7\n",
            "8\n",
            "9\n",
            "10\n"
          ]
        }
      ]
    },
    {
      "cell_type": "code",
      "source": [
        "for numero in range(1, 11):\n",
        "    quadrado = numero ** 2\n",
        "    print(f\"O quadrado de {numero} é {quadrado}\")\n"
      ],
      "metadata": {
        "colab": {
          "base_uri": "https://localhost:8080/"
        },
        "id": "hUGw-rH6z1v_",
        "outputId": "d651a918-91d3-4645-9ea8-e3a705c4ea31"
      },
      "execution_count": null,
      "outputs": [
        {
          "output_type": "stream",
          "name": "stdout",
          "text": [
            "O quadrado de 1 é 1\n",
            "O quadrado de 2 é 4\n",
            "O quadrado de 3 é 9\n",
            "O quadrado de 4 é 16\n",
            "O quadrado de 5 é 25\n",
            "O quadrado de 6 é 36\n",
            "O quadrado de 7 é 49\n",
            "O quadrado de 8 é 64\n",
            "O quadrado de 9 é 81\n",
            "O quadrado de 10 é 100\n"
          ]
        }
      ]
    },
    {
      "cell_type": "code",
      "source": [
        "contador = 10\n",
        "\n",
        "while contador >= 1:\n",
        "    print(contador)\n",
        "    contador -= 1\n"
      ],
      "metadata": {
        "colab": {
          "base_uri": "https://localhost:8080/"
        },
        "id": "d2m3sIzS0Bs6",
        "outputId": "0bf820c1-ebf2-4fa2-f220-e793d2c9515c"
      },
      "execution_count": null,
      "outputs": [
        {
          "output_type": "stream",
          "name": "stdout",
          "text": [
            "10\n",
            "9\n",
            "8\n",
            "7\n",
            "6\n",
            "5\n",
            "4\n",
            "3\n",
            "2\n",
            "1\n"
          ]
        }
      ]
    },
    {
      "cell_type": "code",
      "source": [
        "soma = 0\n",
        "\n",
        "for i in range(1, 101):\n",
        "    soma += i\n",
        "\n",
        "print(\"A soma dos números de 1 a 100 é:\", soma)\n"
      ],
      "metadata": {
        "id": "fSQ1yPpl0bJh",
        "outputId": "76a20bb9-b405-4df8-861c-7818fc8aac95",
        "colab": {
          "base_uri": "https://localhost:8080/"
        }
      },
      "execution_count": null,
      "outputs": [
        {
          "output_type": "stream",
          "name": "stdout",
          "text": [
            "A soma dos números de 1 a 100 é: 5050\n"
          ]
        }
      ]
    },
    {
      "cell_type": "markdown",
      "source": [
        "EXERCICIO 1\n"
      ],
      "metadata": {
        "id": "NuQen_znRYVx"
      }
    },
    {
      "cell_type": "code",
      "source": [
        "def saudacao() :\n",
        "  print (\"Olá, seja bem-vindo ao curso de Phyton!\")\n",
        "# chamando a funcao\n",
        "saudacao()\n"
      ],
      "metadata": {
        "colab": {
          "base_uri": "https://localhost:8080/"
        },
        "id": "mSt-7u0VPxWM",
        "outputId": "3cc2a52c-1fd2-40fe-f8d6-6414200e0bfe"
      },
      "execution_count": 12,
      "outputs": [
        {
          "output_type": "stream",
          "name": "stdout",
          "text": [
            "Olá, seja bem-vindo ao curso de Phyton!\n"
          ]
        }
      ]
    },
    {
      "cell_type": "markdown",
      "source": [
        "EXERCICIO 2\n"
      ],
      "metadata": {
        "id": "68fRdxkGRcia"
      }
    },
    {
      "cell_type": "code",
      "source": [
        "def soma(a, b):\n",
        "    return a + b\n",
        "# Exemplo de chamada\n",
        "resultado = soma(28, 25)\n",
        "print(\"A soma é:\", resultado)"
      ],
      "metadata": {
        "colab": {
          "base_uri": "https://localhost:8080/"
        },
        "id": "1M1ctII1RfkS",
        "outputId": "5f3cd2c2-d323-4234-a24b-eb4930839881"
      },
      "execution_count": 13,
      "outputs": [
        {
          "output_type": "stream",
          "name": "stdout",
          "text": [
            "A soma é: 53\n"
          ]
        }
      ]
    },
    {
      "cell_type": "markdown",
      "source": [
        "EXERCICIO 3"
      ],
      "metadata": {
        "id": "raYyWQ1LSM5y"
      }
    },
    {
      "cell_type": "code",
      "source": [
        "def par_ou_impar(n) :\n",
        "  if n % 2== 0:\n",
        "    return \"Par\"\n",
        "  else:\n",
        "    return \"Impar\"\n",
        "# Exemplo de chamada\n",
        "print(\"O número 8 é\", par_ou_impar(8))\n",
        "print(\"O número 11 é\", par_ou_impar(11))"
      ],
      "metadata": {
        "colab": {
          "base_uri": "https://localhost:8080/"
        },
        "id": "XB8JIKFOSYWs",
        "outputId": "09d18633-f238-41a4-cd15-cddcffd416db"
      },
      "execution_count": 14,
      "outputs": [
        {
          "output_type": "stream",
          "name": "stdout",
          "text": [
            "O número 8 é Par\n",
            "O número 11 é Impar\n"
          ]
        }
      ]
    }
  ]
}